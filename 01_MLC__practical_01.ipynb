{
  "nbformat": 4,
  "nbformat_minor": 0,
  "metadata": {
    "colab": {
      "name": "01_MLC _practical 01.ipynb",
      "provenance": [],
      "authorship_tag": "ABX9TyMiX3ZYQx4FYyu53pJzESXO",
      "include_colab_link": true
    },
    "kernelspec": {
      "name": "python3",
      "display_name": "Python 3"
    },
    "language_info": {
      "name": "python"
    }
  },
  "cells": [
    {
      "cell_type": "markdown",
      "metadata": {
        "id": "view-in-github",
        "colab_type": "text"
      },
      "source": [
        "<a href=\"https://colab.research.google.com/github/poojabegate/assignment-submission/blob/main/01_MLC__practical_01.ipynb\" target=\"_parent\"><img src=\"https://colab.research.google.com/assets/colab-badge.svg\" alt=\"Open In Colab\"/></a>"
      ]
    },
    {
      "cell_type": "code",
      "execution_count": 1,
      "metadata": {
        "colab": {
          "base_uri": "https://localhost:8080/"
        },
        "id": "5ChUHUeOwA3y",
        "outputId": "3d495c93-7317-4a08-953f-13c84b0b972b"
      },
      "outputs": [
        {
          "output_type": "stream",
          "name": "stdout",
          "text": [
            "Hello Pooja\n"
          ]
        }
      ],
      "source": [
        "    print('Hello Pooja')                 "
      ]
    },
    {
      "cell_type": "code",
      "source": [
        "#while loop with \"else\"\n",
        "count=10\n",
        "while(count<=30) :\n",
        "  print(count, \"is Less than 30\" )\n",
        "  count=count+1\n",
        "else:\n",
        "    print(count, \"is Greater than 30\")\n"
      ],
      "metadata": {
        "colab": {
          "base_uri": "https://localhost:8080/"
        },
        "id": "rNbMmfMH6Nrw",
        "outputId": "93bf8c6f-05f6-4f50-f0ed-d8dfc1d20de4"
      },
      "execution_count": 1,
      "outputs": [
        {
          "output_type": "stream",
          "name": "stdout",
          "text": [
            "10 is Less than 30\n",
            "11 is Less than 30\n",
            "12 is Less than 30\n",
            "13 is Less than 30\n",
            "14 is Less than 30\n",
            "15 is Less than 30\n",
            "16 is Less than 30\n",
            "17 is Less than 30\n",
            "18 is Less than 30\n",
            "19 is Less than 30\n",
            "20 is Less than 30\n",
            "21 is Less than 30\n",
            "22 is Less than 30\n",
            "23 is Less than 30\n",
            "24 is Less than 30\n",
            "25 is Less than 30\n",
            "26 is Less than 30\n",
            "27 is Less than 30\n",
            "28 is Less than 30\n",
            "29 is Less than 30\n",
            "30 is Less than 30\n",
            "31 is Greater than 30\n"
          ]
        }
      ]
    },
    {
      "cell_type": "code",
      "source": [
        "#while loop without \"else\"\n",
        "count = 100\n",
        "while (count<110) :\n",
        "  count=count+1\n",
        "  print(count)"
      ],
      "metadata": {
        "colab": {
          "base_uri": "https://localhost:8080/"
        },
        "id": "EmfK3fDg6bxl",
        "outputId": "02583b9c-31ca-4307-895a-4955cae59800"
      },
      "execution_count": 2,
      "outputs": [
        {
          "output_type": "stream",
          "name": "stdout",
          "text": [
            "101\n",
            "102\n",
            "103\n",
            "104\n",
            "105\n",
            "106\n",
            "107\n",
            "108\n",
            "109\n",
            "110\n"
          ]
        }
      ]
    },
    {
      "cell_type": "code",
      "source": [
        "#for loop \n",
        "names = ['Pooja', 'Pallavi', 'Bhagyshree' ]\n",
        "for index in range(len(names)) :\n",
        "  print('Current Name  :', names[index])"
      ],
      "metadata": {
        "colab": {
          "base_uri": "https://localhost:8080/"
        },
        "id": "XjpbxFb46cu_",
        "outputId": "2a3e4f28-2c89-424a-8c49-b66fb321ca1a"
      },
      "execution_count": 4,
      "outputs": [
        {
          "output_type": "stream",
          "name": "stdout",
          "text": [
            "Current Name  : Pooja\n",
            "Current Name  : Pallavi\n",
            "Current Name  : Bhagyshree\n"
          ]
        }
      ]
    },
    {
      "cell_type": "code",
      "source": [
        "#alternative use for \"for loop\"\n",
        "names = ['Pooja', 'Pallavi', 'Bhagyshree' ]\n",
        "for name in names:\n",
        "  print('Current name :', name)"
      ],
      "metadata": {
        "colab": {
          "base_uri": "https://localhost:8080/"
        },
        "id": "Jmxt1SCu6c4W",
        "outputId": "954d2ccc-662a-4352-e768-e415b590c3e4"
      },
      "execution_count": 5,
      "outputs": [
        {
          "output_type": "stream",
          "name": "stdout",
          "text": [
            "Current name : Pooja\n",
            "Current name : Pallavi\n",
            "Current name : Bhagyshree\n"
          ]
        }
      ]
    },
    {
      "cell_type": "code",
      "source": [
        ""
      ],
      "metadata": {
        "id": "HL-kMBsk6Z4h"
      },
      "execution_count": null,
      "outputs": []
    }
  ]
}